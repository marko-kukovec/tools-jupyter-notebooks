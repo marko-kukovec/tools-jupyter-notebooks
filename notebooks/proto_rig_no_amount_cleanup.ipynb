{
 "cells": [
  {
   "cell_type": "code",
   "execution_count": 18,
   "metadata": {},
   "outputs": [],
   "source": [
    "import sys\n",
    "sys.path.append('/workspaces/tools-jupyter-notebooks/protos_bin')\n",
    "import stratum_rpc_pb2 as rpc"
   ]
  },
  {
   "cell_type": "markdown",
   "metadata": {},
   "source": [
    "We have really big proto files that need to be sent to the backend, but they are too big. The problem is that there were a lot of rig connect / disconnects because of enforced KYC for miners. Non KYC miners were kicked off and they were trying to reconnect immediatelly, therefore bloating and expanding proto files with a lot of 0 amount rig entries.\n",
    "\n",
    "Plan:\n",
    "1. Sum all mining amounts together\n",
    "2. Remove all rigs with 0 mining amount from proto\n",
    "3. Check again if all mining amounts match with this cleared proto"
   ]
  },
  {
   "cell_type": "markdown",
   "metadata": {},
   "source": [
    "Calculate cumulative amount prior proto change"
   ]
  },
  {
   "cell_type": "code",
   "execution_count": 19,
   "metadata": {},
   "outputs": [
    {
     "name": "stdout",
     "output_type": "stream",
     "text": [
      "Total amount paid: 64935\n"
     ]
    }
   ],
   "source": [
    "rig_request = rpc.RpcRigRequest()\n",
    "with open('/workspaces/tools-jupyter-notebooks/data/1731947473.proto', \"rb\") as f:\n",
    "  rig_request.ParseFromString(f.read())\n",
    "\n",
    "cumulative_amount_paid = 0\n",
    "for rig_data in rig_request.rigs:\n",
    "    cumulative_amount_paid += rig_data.amountPaid\n",
    "print(f\"Total amount paid: {cumulative_amount_paid}\")"
   ]
  },
  {
   "cell_type": "markdown",
   "metadata": {},
   "source": [
    "Modify proto and save"
   ]
  },
  {
   "cell_type": "code",
   "execution_count": 20,
   "metadata": {},
   "outputs": [],
   "source": [
    "to_remove = []\n",
    "for i, rig_data in enumerate(rig_request.rigs):\n",
    "    if rig_data.amountPaid == 0:\n",
    "        to_remove.append(i)\n",
    "for i in reversed(to_remove):\n",
    "    del rig_request.rigs[i]\n",
    "with open('/workspaces/tools-jupyter-notebooks/data/1731947473_cleaned.proto', \"wb\") as f:\n",
    "  f.write(rig_request.SerializeToString())"
   ]
  },
  {
   "cell_type": "markdown",
   "metadata": {},
   "source": [
    "Compare cumulativ amounts paid"
   ]
  },
  {
   "cell_type": "code",
   "execution_count": 21,
   "metadata": {},
   "outputs": [
    {
     "name": "stdout",
     "output_type": "stream",
     "text": [
      "Original cumulative amount paid:  64935\n",
      "Cleaned cumulative amount paid:  64935\n"
     ]
    }
   ],
   "source": [
    "rig_request_orig = rpc.RpcRigRequest()\n",
    "with open('/workspaces/tools-jupyter-notebooks/data/1731947473.proto', \"rb\") as f:\n",
    "  rig_request_orig.ParseFromString(f.read())\n",
    "\n",
    "rig_request_cleaned = rpc.RpcRigRequest()\n",
    "with open('/workspaces/tools-jupyter-notebooks/data/1731947473_cleaned.proto', \"rb\") as f:\n",
    "  rig_request_cleaned.ParseFromString(f.read())\n",
    "\n",
    "cumulative_amount_paid_orig = 0\n",
    "for rig_data in rig_request_orig.rigs:\n",
    "    cumulative_amount_paid_orig += rig_data.amountPaid\n",
    "\n",
    "cumulative_amount_paid_cleaned = 0\n",
    "for rig_data in rig_request_cleaned.rigs:\n",
    "    cumulative_amount_paid_cleaned += rig_data.amountPaid\n",
    "\n",
    "print(\"Original cumulative amount paid: \", cumulative_amount_paid_orig)\n",
    "print(\"Cleaned cumulative amount paid: \", cumulative_amount_paid_cleaned)"
   ]
  }
 ],
 "metadata": {
  "kernelspec": {
   "display_name": "Python 3",
   "language": "python",
   "name": "python3"
  },
  "language_info": {
   "codemirror_mode": {
    "name": "ipython",
    "version": 3
   },
   "file_extension": ".py",
   "mimetype": "text/x-python",
   "name": "python",
   "nbconvert_exporter": "python",
   "pygments_lexer": "ipython3",
   "version": "3.11.2"
  }
 },
 "nbformat": 4,
 "nbformat_minor": 2
}
